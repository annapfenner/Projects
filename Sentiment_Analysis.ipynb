{
 "cells": [
  {
   "cell_type": "markdown",
   "id": "30833267-ad74-46b7-86ec-9fa746fcc19d",
   "metadata": {},
   "source": [
    "# Overview of project:\n",
    "\n",
    "**Objective:**\n",
    "The objective of the project is to perform sentiment analysis on a large dataset of Amazon reviews comprising 4,000,000 samples. Among these, 400,000 reviews are designated for the testing dataset. The goal is to develop and evaluate logistic regression models for classifying the sentiment of Amazon reviews as either positive (1) or negative (0). Additionally, the project aims to compare the performance of logistic regression models trained with two different vectorization methods (TF-IDF and CountVectorizer) and select the most effective model based on predefined evaluation metrics, with a focus on precision to minimize false positives.\n",
    "\n",
    "**Outline:**\n",
    "1. [Import Packages](#1.-Import-packages)\n",
    "2. [Load Data](#2.-Load-data)\n",
    "3. [EDA](#3.-EDA)\n",
    "4. [Data Cleaning](#4.-Data-Cleaning-&-Pre-processing)\n",
    "5. [Modeling](#5.-Modeling)\n",
    "\n",
    "**Data:**\n",
    "Used this [Kaggle dataset](https://www.kaggle.com/datasets/imakash3011/customer-personality-analysis/data)\n",
    "\n",
    "**Data Preprocessing:**\n",
    "   - The text data underwent preprocessing using a `clean_text` function, which included steps like tokenization, lowercasing, removing punctuation, and stop words.\n",
    "   - Two different vectorization methods were applied to the preprocessed text data: CountVectorizer and TF-IDF vectorization.\n",
    "\n",
    "**Model Training:**\n",
    "   - Logistic regression models were trained using both CountVectorizer vectorized data and TF-IDF vectorized data.\n",
    "   - The models were trained on a labeled dataset containing Amazon reviews and their corresponding sentiment labels (positive, 1, or negative, 0).\n",
    "\n",
    "**Evaluation Metric:**\n",
    "   - Precision was chosen as the evaluation metric of choice to reduce false positives.\n",
    "   - Precision measures the proportion of true positive predictions among all positive predictions made by the model. \n",
    "\n",
    "**Results:**\n",
    "- The logistic regression model trained with CountVectorizer achieved a precision score of 0.8856, indicating that 88.56% of the predicted positive reviews were indeed positive.\n",
    "- The logistic regression model trained with TF-IDF vectorization achieved a precision score of 0.8830, slightly lower than CountVectorizer.\n",
    "\n",
    "**Conclusion:**\n",
    "\n",
    "In this project, logistic regression models were trained and evaluated for sentiment analysis on a dataset of 4,000,000 Amazon reviews. The CountVectorizer-based logistic regression model demonstrated slightly higher precision (0.8856) compared to the TF-IDF-based model (0.8830). The precision score reflects the percentage of accurately classified positive reviews, highlighting the effectiveness of both models in minimizing false positives.\n",
    "\n",
    "**Next Steps:**\n",
    "\n",
    "Moving forward, the project will explore the implementation of random forest and LSTM neural network models to further improve sentiment analysis on the Amazon review dataset. These models offer the potential to capture more complex patterns and relationships within the text data, potentially enhancing the overall performance of the sentiment analysis task."
   ]
  },
  {
   "cell_type": "markdown",
   "id": "bcf96cef-52a2-42c5-9a46-b4c2572db43b",
   "metadata": {},
   "source": [
    "# 1. Import packages"
   ]
  },
  {
   "cell_type": "code",
   "execution_count": 1,
   "id": "46ce9475-0239-4172-bf91-dfab991009ca",
   "metadata": {},
   "outputs": [],
   "source": [
    "from mpl_toolkits.mplot3d import Axes3D\n",
    "from sklearn.preprocessing import StandardScaler\n",
    "import seaborn as sns\n",
    "import matplotlib.pyplot as plt \n",
    "import numpy as np \n",
    "import bz2\n",
    "import os\n",
    "import pandas as pd \n",
    "from sklearn.linear_model import LogisticRegression\n",
    "from sklearn.ensemble import RandomForestClassifier \n",
    "from sklearn.metrics import confusion_matrix, ConfusionMatrixDisplay, accuracy_score, precision_score"
   ]
  },
  {
   "cell_type": "code",
   "execution_count": 2,
   "id": "16a2a749-4fa4-41a9-b4cd-0193ecd4ce62",
   "metadata": {},
   "outputs": [],
   "source": [
    "from sklearn.feature_extraction.text import CountVectorizer, TfidfVectorizer\n",
    "import re\n",
    "from nltk.corpus import stopwords\n",
    "from nltk.tokenize import word_tokenize\n",
    "from nltk.stem import PorterStemmer\n",
    "from nltk.util import ngrams"
   ]
  },
  {
   "cell_type": "markdown",
   "id": "d6683fc2-850b-4776-8029-506a092a0d28",
   "metadata": {},
   "source": [
    "## 2. Load data"
   ]
  },
  {
   "cell_type": "code",
   "execution_count": 3,
   "id": "83797d45-1887-4621-8d81-5f72c80a1d3b",
   "metadata": {},
   "outputs": [
    {
     "name": "stdout",
     "output_type": "stream",
     "text": [
      "<class 'bz2.BZ2File'>\n"
     ]
    }
   ],
   "source": [
    "train = bz2.BZ2File('../src/archive/train.ft.txt.bz2')\n",
    "test = bz2.BZ2File('../src/archive/test.ft.txt.bz2')\n",
    "print(type(train))"
   ]
  },
  {
   "cell_type": "code",
   "execution_count": 4,
   "id": "1eefed09-b17c-416b-8f77-f61fd1c66c62",
   "metadata": {},
   "outputs": [],
   "source": [
    "def labels_comments(file_name):\n",
    "    texts, labels = [], [] \n",
    "    for line in file_name:\n",
    "        x = line.decode('utf-8')  #binary to string\n",
    "        labels.append(int(x[9]) - 1)  #extract labels\n",
    "        texts.append(x[10:].strip())  #extract texts\n",
    "    return np.array(labels), texts"
   ]
  },
  {
   "cell_type": "code",
   "execution_count": 5,
   "id": "5b4cfb8f-adae-40b0-a62e-b0962241ee0e",
   "metadata": {},
   "outputs": [],
   "source": [
    "train_labels, train_reviews = labels_comments(train)\n",
    "test_labels, test_reviews = labels_comments(test)"
   ]
  },
  {
   "cell_type": "markdown",
   "id": "a8760d3d-d5bd-463b-8056-f013b1e096a5",
   "metadata": {},
   "source": [
    "## 3. EDA"
   ]
  },
  {
   "cell_type": "code",
   "execution_count": 6,
   "id": "34b0e48e-22db-4083-b7a9-bff4df4a71f8",
   "metadata": {},
   "outputs": [
    {
     "data": {
      "text/plain": [
       "'Stuning even for the non-gamer: This sound track was beautiful! It paints the senery in your mind so well I would recomend it even to people who hate vid. game music! I have played the game Chrono Cross but out of all of the games I have ever played it has the best music! It backs away from crude keyboarding and takes a fresher step with grate guitars and soulful orchestras. It would impress anyone who cares to listen! ^_^'"
      ]
     },
     "execution_count": 6,
     "metadata": {},
     "output_type": "execute_result"
    }
   ],
   "source": [
    "train_reviews[0]"
   ]
  },
  {
   "cell_type": "code",
   "execution_count": 7,
   "id": "7b621bde-207d-42ba-8ad3-6b6e1a4adff6",
   "metadata": {},
   "outputs": [
    {
     "name": "stdout",
     "output_type": "stream",
     "text": [
      "3600000\n"
     ]
    }
   ],
   "source": [
    "print(len(train_labels))"
   ]
  },
  {
   "cell_type": "code",
   "execution_count": 8,
   "id": "99b1bae0-a942-42d6-82e8-faa4d8be4138",
   "metadata": {},
   "outputs": [],
   "source": [
    "unique_train_labels, label_train_counts = np.unique(train_labels, return_counts=True)"
   ]
  },
  {
   "cell_type": "code",
   "execution_count": 9,
   "id": "f50ffb92-eb35-4867-a4a5-75a3219e16ed",
   "metadata": {},
   "outputs": [
    {
     "data": {
      "text/plain": [
       "Text(0.5, 1.0, 'Count of Labels for Training Data')"
      ]
     },
     "execution_count": 9,
     "metadata": {},
     "output_type": "execute_result"
    },
    {
     "data": {
      "image/png": "[encoded data removed]",
      "text/plain": [
       "<Figure size 640x480 with 1 Axes>"
      ]
     },
     "metadata": {},
     "output_type": "display_data"
    }
   ],
   "source": [
    "plt.bar(unique_train_labels, label_train_counts)\n",
    "plt.xlabel('Labels')\n",
    "plt.ylabel('Count')\n",
    "plt.title('Count of Labels for Training Data')"
   ]
  },
  {
   "cell_type": "code",
   "execution_count": 10,
   "id": "5010ff80-e16a-4df0-bcff-bc402157404c",
   "metadata": {},
   "outputs": [],
   "source": [
    "unique_test_labels, label_test_counts = np.unique(test_labels, return_counts=True)"
   ]
  },
  {
   "cell_type": "code",
   "execution_count": 11,
   "id": "3352b5e2-cc54-4293-b5be-b7974d0f82cb",
   "metadata": {},
   "outputs": [
    {
     "data": {
      "text/plain": [
       "Text(0.5, 1.0, 'Count of Labels for Testing Data')"
      ]
     },
     "execution_count": 11,
     "metadata": {},
     "output_type": "execute_result"
    },
    {
     "data": {
      "image/png": "[encoded data removed]",
      "text/plain": [
       "<Figure size 640x480 with 1 Axes>"
      ]
     },
     "metadata": {},
     "output_type": "display_data"
    }
   ],
   "source": [
    "plt.bar(unique_test_labels, label_test_counts)\n",
    "plt.xlabel('Labels')\n",
    "plt.ylabel('Count')\n",
    "plt.title('Count of Labels for Testing Data')"
   ]
  },
  {
   "cell_type": "markdown",
   "id": "a15fe225-0f1a-4d9f-92d9-4d2fa939870f",
   "metadata": {},
   "source": [
    "## 4. Data Cleaning & Pre-processing"
   ]
  },
  {
   "cell_type": "code",
   "execution_count": 12,
   "id": "087330f4-504b-44fd-8317-3b023e64dc5c",
   "metadata": {},
   "outputs": [
    {
     "name": "stderr",
     "output_type": "stream",
     "text": [
      "[nltk_data] Downloading package punkt to\n",
      "[nltk_data]     /Users/annaparton/nltk_data...\n",
      "[nltk_data]   Package punkt is already up-to-date!\n",
      "[nltk_data] Downloading package stopwords to\n",
      "[nltk_data]     /Users/annaparton/nltk_data...\n",
      "[nltk_data]   Package stopwords is already up-to-date!\n"
     ]
    },
    {
     "data": {
      "text/plain": [
       "True"
      ]
     },
     "execution_count": 12,
     "metadata": {},
     "output_type": "execute_result"
    }
   ],
   "source": [
    "import nltk\n",
    "nltk.download('punkt')\n",
    "nltk.download('stopwords')"
   ]
  },
  {
   "cell_type": "markdown",
   "id": "30d91dc8-37a7-4da5-8202-3cfa65938fe5",
   "metadata": {},
   "source": [
    "### 4a. Create function to clean data"
   ]
  },
  {
   "cell_type": "markdown",
   "id": "0db73441-c3ff-4604-b2da-00d4ec8fe2d1",
   "metadata": {},
   "source": [
    "Creating function to:\n",
    "1. Tokenize each word\n",
    "2. Lowercase all the words\n",
    "3. Remove punctuation and special characters\n",
    "4. Remove stop words\n",
    "5. Stemming words (a lot of reviews so choosing this over lemmatizing words)"
   ]
  },
  {
   "cell_type": "code",
   "execution_count": 13,
   "id": "6ebd2aeb-989c-4561-9e26-243dc074167e",
   "metadata": {},
   "outputs": [
    {
     "name": "stdout",
     "output_type": "stream",
     "text": [
      "product awesom\n"
     ]
    }
   ],
   "source": [
    "#creating function \n",
    "def clean_text(text):\n",
    "    # Tokenization\n",
    "    words = word_tokenize(text)\n",
    "    \n",
    "    # Lowercasing\n",
    "    words = [word.lower() for word in words]\n",
    "    \n",
    "    # Removing punctuation and special characters\n",
    "    words = [re.sub(r'[^a-zA-Z0-9]', '', word) for word in words]\n",
    "    \n",
    "    # Removing stop words\n",
    "    stop_words = set(stopwords.words('english'))\n",
    "    words = [word for word in words if word not in stop_words]\n",
    "    \n",
    "    # Stemming\n",
    "    stemmer = PorterStemmer()\n",
    "    words = [stemmer.stem(word) for word in words]\n",
    "    \n",
    "    # Join the words back into a single string\n",
    "    cleaned_text = ' '.join(words)\n",
    "    \n",
    "    return cleaned_text\n",
    "\n",
    "# Example to make sure it works\n",
    "text = \"This product is not awesome\"\n",
    "cleaned_text = clean_text(text)\n",
    "print(cleaned_text)"
   ]
  },
  {
   "cell_type": "markdown",
   "id": "af5ecd4b-182e-4d55-9f55-3d532610c85b",
   "metadata": {},
   "source": [
    "### 4b. Clean train review data"
   ]
  },
  {
   "cell_type": "code",
   "execution_count": 14,
   "id": "11e9ade7-90da-4eab-bf3f-574136b8f7aa",
   "metadata": {},
   "outputs": [],
   "source": [
    "train_cleaned_reviews = [clean_text(review) for review in train_reviews]\n"
   ]
  },
  {
   "cell_type": "code",
   "execution_count": 15,
   "id": "ee179a91-1ca6-420d-8483-f7765bbd8fdf",
   "metadata": {},
   "outputs": [
    {
     "name": "stdout",
     "output_type": "stream",
     "text": [
      "3600000\n",
      "3600000\n"
     ]
    }
   ],
   "source": [
    "#make sure same length before and after clearning up the reviews\n",
    "print(len(train_cleaned_reviews))\n",
    "print(len(train_reviews))"
   ]
  },
  {
   "cell_type": "markdown",
   "id": "fb0d1160-0eb6-485e-a1f5-c93132f6291b",
   "metadata": {},
   "source": [
    "### 4c. Cleaning up test review data. "
   ]
  },
  {
   "cell_type": "code",
   "execution_count": 16,
   "id": "bdf0ea88-9109-4ea0-94ca-2d54d434ed87",
   "metadata": {},
   "outputs": [],
   "source": [
    "test_cleaned_reviews = [clean_text(review) for review in test_reviews]"
   ]
  },
  {
   "cell_type": "markdown",
   "id": "ed762768-4b9f-4ea5-ad34-f363b882ebea",
   "metadata": {},
   "source": [
    "### 4d. CountVectorizer()"
   ]
  },
  {
   "cell_type": "code",
   "execution_count": 17,
   "id": "c613cc3a-c792-43a8-8df9-de4c97cf6440",
   "metadata": {},
   "outputs": [],
   "source": [
    "vect = CountVectorizer()\n",
    "\n",
    "vect.fit(train_cleaned_reviews)\n",
    " \n",
    "train_cleaned_vect = vect.transform(train_cleaned_reviews)\n",
    "\n",
    "test_cleaned_vect = vect.transform(test_cleaned_reviews)"
   ]
  },
  {
   "cell_type": "code",
   "execution_count": 20,
   "id": "07ac7a1d-da2d-4e5b-bc53-04663c273c31",
   "metadata": {},
   "outputs": [],
   "source": [
    "#to keep things consistent will rename things to fit X_train, y_train, X_test, y_test \n",
    "X_train = train_cleaned_vect\n",
    "X_test = test_cleaned_vect \n",
    "y_train = train_labels\n",
    "y_test = test_labels"
   ]
  },
  {
   "cell_type": "markdown",
   "id": "1bfb3e8b-f94d-402d-ae16-187e9651fb78",
   "metadata": {},
   "source": [
    "### 4e. TfidfVectorizer()"
   ]
  },
  {
   "cell_type": "code",
   "execution_count": 18,
   "id": "46562134-242e-466e-8378-45bff1cc8454",
   "metadata": {},
   "outputs": [],
   "source": [
    "tf = TfidfVectorizer(max_features=5000) \n",
    "\n",
    "tf.fit(train_cleaned_reviews)\n",
    " \n",
    "train_cleaned_tf = tf.transform(train_cleaned_reviews)\n",
    "\n",
    "test_cleaned_tf = tf.transform(test_cleaned_reviews)"
   ]
  },
  {
   "cell_type": "code",
   "execution_count": 19,
   "id": "b9d1b192-99a3-4d71-b3a6-c17eb816373e",
   "metadata": {},
   "outputs": [],
   "source": [
    "#creating X_train_tf and X_test_tf\n",
    "X_train_tf = train_cleaned_tf\n",
    "X_test_tf = test_cleaned_tf\n",
    "y_train = train_labels\n",
    "y_test = test_labels"
   ]
  },
  {
   "cell_type": "markdown",
   "id": "64e3ca5f-2a8e-45d1-9666-a5432064d966",
   "metadata": {},
   "source": [
    "## 5. Modeling"
   ]
  },
  {
   "cell_type": "markdown",
   "id": "611eb1f5-a68d-4b3a-ab80-850883ac58e5",
   "metadata": {},
   "source": [
    "### 5a. Logistic Regression with CountVectorizer()"
   ]
  },
  {
   "cell_type": "code",
   "execution_count": 21,
   "id": "223b07cc-bf7e-44d4-9146-042457a48c77",
   "metadata": {},
   "outputs": [
    {
     "name": "stderr",
     "output_type": "stream",
     "text": [
      "/Applications/anaconda3/lib/python3.10/site-packages/sklearn/linear_model/_logistic.py:458: ConvergenceWarning: lbfgs failed to converge (status=1):\n",
      "STOP: TOTAL NO. of ITERATIONS REACHED LIMIT.\n",
      "\n",
      "Increase the number of iterations (max_iter) or scale the data as shown in:\n",
      "    https://scikit-learn.org/stable/modules/preprocessing.html\n",
      "Please also refer to the documentation for alternative solver options:\n",
      "    https://scikit-learn.org/stable/modules/linear_model.html#logistic-regression\n",
      "  n_iter_i = _check_optimize_result(\n"
     ]
    },
    {
     "data": {
      "text/html": [
       "<style>#sk-container-id-1 {color: black;background-color: white;}#sk-container-id-1 pre{padding: 0;}#sk-container-id-1 div.sk-toggleable {background-color: white;}#sk-container-id-1 label.sk-toggleable__label {cursor: pointer;display: block;width: 100%;margin-bottom: 0;padding: 0.3em;box-sizing: border-box;text-align: center;}#sk-container-id-1 label.sk-toggleable__label-arrow:before {content: \"▸\";float: left;margin-right: 0.25em;color: #696969;}#sk-container-id-1 label.sk-toggleable__label-arrow:hover:before {color: black;}#sk-container-id-1 div.sk-estimator:hover label.sk-toggleable__label-arrow:before {color: black;}#sk-container-id-1 div.sk-toggleable__content {max-height: 0;max-width: 0;overflow: hidden;text-align: left;background-color: #f0f8ff;}#sk-container-id-1 div.sk-toggleable__content pre {margin: 0.2em;color: black;border-radius: 0.25em;background-color: #f0f8ff;}#sk-container-id-1 input.sk-toggleable__control:checked~div.sk-toggleable__content {max-height: 200px;max-width: 100%;overflow: auto;}#sk-container-id-1 input.sk-toggleable__control:checked~label.sk-toggleable__label-arrow:before {content: \"▾\";}#sk-container-id-1 div.sk-estimator input.sk-toggleable__control:checked~label.sk-toggleable__label {background-color: #d4ebff;}#sk-container-id-1 div.sk-label input.sk-toggleable__control:checked~label.sk-toggleable__label {background-color: #d4ebff;}#sk-container-id-1 input.sk-hidden--visually {border: 0;clip: rect(1px 1px 1px 1px);clip: rect(1px, 1px, 1px, 1px);height: 1px;margin: -1px;overflow: hidden;padding: 0;position: absolute;width: 1px;}#sk-container-id-1 div.sk-estimator {font-family: monospace;background-color: #f0f8ff;border: 1px dotted black;border-radius: 0.25em;box-sizing: border-box;margin-bottom: 0.5em;}#sk-container-id-1 div.sk-estimator:hover {background-color: #d4ebff;}#sk-container-id-1 div.sk-parallel-item::after {content: \"\";width: 100%;border-bottom: 1px solid gray;flex-grow: 1;}#sk-container-id-1 div.sk-label:hover label.sk-toggleable__label {background-color: #d4ebff;}#sk-container-id-1 div.sk-serial::before {content: \"\";position: absolute;border-left: 1px solid gray;box-sizing: border-box;top: 0;bottom: 0;left: 50%;z-index: 0;}#sk-container-id-1 div.sk-serial {display: flex;flex-direction: column;align-items: center;background-color: white;padding-right: 0.2em;padding-left: 0.2em;position: relative;}#sk-container-id-1 div.sk-item {position: relative;z-index: 1;}#sk-container-id-1 div.sk-parallel {display: flex;align-items: stretch;justify-content: center;background-color: white;position: relative;}#sk-container-id-1 div.sk-item::before, #sk-container-id-1 div.sk-parallel-item::before {content: \"\";position: absolute;border-left: 1px solid gray;box-sizing: border-box;top: 0;bottom: 0;left: 50%;z-index: -1;}#sk-container-id-1 div.sk-parallel-item {display: flex;flex-direction: column;z-index: 1;position: relative;background-color: white;}#sk-container-id-1 div.sk-parallel-item:first-child::after {align-self: flex-end;width: 50%;}#sk-container-id-1 div.sk-parallel-item:last-child::after {align-self: flex-start;width: 50%;}#sk-container-id-1 div.sk-parallel-item:only-child::after {width: 0;}#sk-container-id-1 div.sk-dashed-wrapped {border: 1px dashed gray;margin: 0 0.4em 0.5em 0.4em;box-sizing: border-box;padding-bottom: 0.4em;background-color: white;}#sk-container-id-1 div.sk-label label {font-family: monospace;font-weight: bold;display: inline-block;line-height: 1.2em;}#sk-container-id-1 div.sk-label-container {text-align: center;}#sk-container-id-1 div.sk-container {/* jupyter's `normalize.less` sets `[hidden] { display: none; }` but bootstrap.min.css set `[hidden] { display: none !important; }` so we also need the `!important` here to be able to override the default hidden behavior on the sphinx rendered scikit-learn.org. See: https://github.com/scikit-learn/scikit-learn/issues/21755 */display: inline-block !important;position: relative;}#sk-container-id-1 div.sk-text-repr-fallback {display: none;}</style><div id=\"sk-container-id-1\" class=\"sk-top-container\"><div class=\"sk-text-repr-fallback\"><pre>LogisticRegression()</pre><b>In a Jupyter environment, please rerun this cell to show the HTML representation or trust the notebook. <br />On GitHub, the HTML representation is unable to render, please try loading this page with nbviewer.org.</b></div><div class=\"sk-container\" hidden><div class=\"sk-item\"><div class=\"sk-estimator sk-toggleable\"><input class=\"sk-toggleable__control sk-hidden--visually\" id=\"sk-estimator-id-1\" type=\"checkbox\" checked><label for=\"sk-estimator-id-1\" class=\"sk-toggleable__label sk-toggleable__label-arrow\">LogisticRegression</label><div class=\"sk-toggleable__content\"><pre>LogisticRegression()</pre></div></div></div></div></div>"
      ],
      "text/plain": [
       "LogisticRegression()"
      ]
     },
     "execution_count": 21,
     "metadata": {},
     "output_type": "execute_result"
    }
   ],
   "source": [
    "#Train Logistic Regression Model\n",
    "model = LogisticRegression()\n",
    "model.fit(X_train, y_train)"
   ]
  },
  {
   "cell_type": "markdown",
   "id": "d4c58606-650f-48a9-b6a3-fb978cbd7e31",
   "metadata": {},
   "source": [
    "Metric of choice is precision as want to minimize false positives "
   ]
  },
  {
   "cell_type": "code",
   "execution_count": 22,
   "id": "0d7f2955-2ae4-4f04-af98-a33843f45115",
   "metadata": {},
   "outputs": [
    {
     "name": "stdout",
     "output_type": "stream",
     "text": [
      "Accuracy score: 0.8913\n",
      "Precision score: 0.8856\n"
     ]
    }
   ],
   "source": [
    "#Evaluate Model\n",
    "y_pred = model.predict(X_test)\n",
    "accuracy = accuracy_score(y_test, y_pred)\n",
    "print(\"Accuracy score: {0:0.4f}\". format(accuracy))\n",
    "print(\"Precision score: {0:0.4f}\". format(precision_score(y_test, y_pred)))"
   ]
  },
  {
   "cell_type": "code",
   "execution_count": 23,
   "id": "b4754a5d-8f22-4c13-865a-4ae8451c8579",
   "metadata": {},
   "outputs": [
    {
     "data": {
      "image/png": "[encoded data removed]",
      "text/plain": [
       "<Figure size 640x480 with 2 Axes>"
      ]
     },
     "metadata": {},
     "output_type": "display_data"
    }
   ],
   "source": [
    "cm = confusion_matrix(y_test, y_pred)\n",
    "disp = ConfusionMatrixDisplay(confusion_matrix=cm, display_labels =[0,1])\n",
    "disp.plot()\n",
    "plt.show()"
   ]
  },
  {
   "cell_type": "markdown",
   "id": "69e353ea-c1af-4467-b9cb-99a2f5271b5a",
   "metadata": {},
   "source": [
    "### 5b. Logistic Regression with tfidfVectorizer()"
   ]
  },
  {
   "cell_type": "code",
   "execution_count": 24,
   "id": "79bd630a-1bc0-4b54-8566-c06678d72aa5",
   "metadata": {},
   "outputs": [
    {
     "name": "stderr",
     "output_type": "stream",
     "text": [
      "/Applications/anaconda3/lib/python3.10/site-packages/sklearn/linear_model/_logistic.py:458: ConvergenceWarning: lbfgs failed to converge (status=1):\n",
      "STOP: TOTAL NO. of ITERATIONS REACHED LIMIT.\n",
      "\n",
      "Increase the number of iterations (max_iter) or scale the data as shown in:\n",
      "    https://scikit-learn.org/stable/modules/preprocessing.html\n",
      "Please also refer to the documentation for alternative solver options:\n",
      "    https://scikit-learn.org/stable/modules/linear_model.html#logistic-regression\n",
      "  n_iter_i = _check_optimize_result(\n"
     ]
    },
    {
     "data": {
      "text/html": [
       "<style>#sk-container-id-2 {color: black;background-color: white;}#sk-container-id-2 pre{padding: 0;}#sk-container-id-2 div.sk-toggleable {background-color: white;}#sk-container-id-2 label.sk-toggleable__label {cursor: pointer;display: block;width: 100%;margin-bottom: 0;padding: 0.3em;box-sizing: border-box;text-align: center;}#sk-container-id-2 label.sk-toggleable__label-arrow:before {content: \"▸\";float: left;margin-right: 0.25em;color: #696969;}#sk-container-id-2 label.sk-toggleable__label-arrow:hover:before {color: black;}#sk-container-id-2 div.sk-estimator:hover label.sk-toggleable__label-arrow:before {color: black;}#sk-container-id-2 div.sk-toggleable__content {max-height: 0;max-width: 0;overflow: hidden;text-align: left;background-color: #f0f8ff;}#sk-container-id-2 div.sk-toggleable__content pre {margin: 0.2em;color: black;border-radius: 0.25em;background-color: #f0f8ff;}#sk-container-id-2 input.sk-toggleable__control:checked~div.sk-toggleable__content {max-height: 200px;max-width: 100%;overflow: auto;}#sk-container-id-2 input.sk-toggleable__control:checked~label.sk-toggleable__label-arrow:before {content: \"▾\";}#sk-container-id-2 div.sk-estimator input.sk-toggleable__control:checked~label.sk-toggleable__label {background-color: #d4ebff;}#sk-container-id-2 div.sk-label input.sk-toggleable__control:checked~label.sk-toggleable__label {background-color: #d4ebff;}#sk-container-id-2 input.sk-hidden--visually {border: 0;clip: rect(1px 1px 1px 1px);clip: rect(1px, 1px, 1px, 1px);height: 1px;margin: -1px;overflow: hidden;padding: 0;position: absolute;width: 1px;}#sk-container-id-2 div.sk-estimator {font-family: monospace;background-color: #f0f8ff;border: 1px dotted black;border-radius: 0.25em;box-sizing: border-box;margin-bottom: 0.5em;}#sk-container-id-2 div.sk-estimator:hover {background-color: #d4ebff;}#sk-container-id-2 div.sk-parallel-item::after {content: \"\";width: 100%;border-bottom: 1px solid gray;flex-grow: 1;}#sk-container-id-2 div.sk-label:hover label.sk-toggleable__label {background-color: #d4ebff;}#sk-container-id-2 div.sk-serial::before {content: \"\";position: absolute;border-left: 1px solid gray;box-sizing: border-box;top: 0;bottom: 0;left: 50%;z-index: 0;}#sk-container-id-2 div.sk-serial {display: flex;flex-direction: column;align-items: center;background-color: white;padding-right: 0.2em;padding-left: 0.2em;position: relative;}#sk-container-id-2 div.sk-item {position: relative;z-index: 1;}#sk-container-id-2 div.sk-parallel {display: flex;align-items: stretch;justify-content: center;background-color: white;position: relative;}#sk-container-id-2 div.sk-item::before, #sk-container-id-2 div.sk-parallel-item::before {content: \"\";position: absolute;border-left: 1px solid gray;box-sizing: border-box;top: 0;bottom: 0;left: 50%;z-index: -1;}#sk-container-id-2 div.sk-parallel-item {display: flex;flex-direction: column;z-index: 1;position: relative;background-color: white;}#sk-container-id-2 div.sk-parallel-item:first-child::after {align-self: flex-end;width: 50%;}#sk-container-id-2 div.sk-parallel-item:last-child::after {align-self: flex-start;width: 50%;}#sk-container-id-2 div.sk-parallel-item:only-child::after {width: 0;}#sk-container-id-2 div.sk-dashed-wrapped {border: 1px dashed gray;margin: 0 0.4em 0.5em 0.4em;box-sizing: border-box;padding-bottom: 0.4em;background-color: white;}#sk-container-id-2 div.sk-label label {font-family: monospace;font-weight: bold;display: inline-block;line-height: 1.2em;}#sk-container-id-2 div.sk-label-container {text-align: center;}#sk-container-id-2 div.sk-container {/* jupyter's `normalize.less` sets `[hidden] { display: none; }` but bootstrap.min.css set `[hidden] { display: none !important; }` so we also need the `!important` here to be able to override the default hidden behavior on the sphinx rendered scikit-learn.org. See: https://github.com/scikit-learn/scikit-learn/issues/21755 */display: inline-block !important;position: relative;}#sk-container-id-2 div.sk-text-repr-fallback {display: none;}</style><div id=\"sk-container-id-2\" class=\"sk-top-container\"><div class=\"sk-text-repr-fallback\"><pre>LogisticRegression()</pre><b>In a Jupyter environment, please rerun this cell to show the HTML representation or trust the notebook. <br />On GitHub, the HTML representation is unable to render, please try loading this page with nbviewer.org.</b></div><div class=\"sk-container\" hidden><div class=\"sk-item\"><div class=\"sk-estimator sk-toggleable\"><input class=\"sk-toggleable__control sk-hidden--visually\" id=\"sk-estimator-id-2\" type=\"checkbox\" checked><label for=\"sk-estimator-id-2\" class=\"sk-toggleable__label sk-toggleable__label-arrow\">LogisticRegression</label><div class=\"sk-toggleable__content\"><pre>LogisticRegression()</pre></div></div></div></div></div>"
      ],
      "text/plain": [
       "LogisticRegression()"
      ]
     },
     "execution_count": 24,
     "metadata": {},
     "output_type": "execute_result"
    }
   ],
   "source": [
    "#Train Logistic Regression Model\n",
    "model_lr = LogisticRegression()\n",
    "model_lr.fit(X_train_tf, y_train)"
   ]
  },
  {
   "cell_type": "code",
   "execution_count": 25,
   "id": "81427606-cf68-429e-9bc5-7a74407f4e80",
   "metadata": {},
   "outputs": [
    {
     "name": "stdout",
     "output_type": "stream",
     "text": [
      "Accuracy score: 0.8857\n",
      "Precision score: 0.8830\n"
     ]
    }
   ],
   "source": [
    "#Evaluate Model\n",
    "y_pred_tf = model_lr.predict(X_test_tf)\n",
    "accuracy = accuracy_score(y_test, y_pred_tf)\n",
    "print(\"Accuracy score: {0:0.4f}\". format(accuracy))\n",
    "print(\"Precision score: {0:0.4f}\". format(precision_score(y_test, y_pred_tf)))"
   ]
  },
  {
   "cell_type": "code",
   "execution_count": 26,
   "id": "0e5577a4-153c-4b86-82b9-b769c03895e5",
   "metadata": {},
   "outputs": [
    {
     "data": {
      "image/png": "[encoded data removed]",
      "text/plain": [
       "<Figure size 640x480 with 2 Axes>"
      ]
     },
     "metadata": {},
     "output_type": "display_data"
    }
   ],
   "source": [
    "cm = confusion_matrix(y_test, y_pred_tf)\n",
    "disp = ConfusionMatrixDisplay(confusion_matrix=cm, display_labels =[0,1])\n",
    "disp.plot()\n",
    "plt.show()"
   ]
  },
  {
   "cell_type": "code",
   "execution_count": null,
   "id": "0e42424b-e76b-44e4-acf9-d0043f40813e",
   "metadata": {},
   "outputs": [],
   "source": []
  }
 ],
 "metadata": {
  "kernelspec": {
   "display_name": "Python 3 (ipykernel)",
   "language": "python",
   "name": "python3"
  },
  "language_info": {
   "codemirror_mode": {
    "name": "ipython",
    "version": 3
   },
   "file_extension": ".py",
   "mimetype": "text/x-python",
   "name": "python",
   "nbconvert_exporter": "python",
   "pygments_lexer": "ipython3",
   "version": "3.10.9"
  }
 },
 "nbformat": 4,
 "nbformat_minor": 5
}
